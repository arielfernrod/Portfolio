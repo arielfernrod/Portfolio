{
 "metadata": {
  "language_info": {
   "codemirror_mode": {
    "name": "ipython",
    "version": 3
   },
   "file_extension": ".py",
   "mimetype": "text/x-python",
   "name": "python",
   "nbconvert_exporter": "python",
   "pygments_lexer": "ipython3",
   "version": "3.6.7-final"
  },
  "orig_nbformat": 2,
  "kernelspec": {
   "name": "python36764bit18f7939e71684d01b5fb09541e8d6757",
   "display_name": "Python 3.6.7 64-bit"
  },
  "metadata": {
   "interpreter": {
    "hash": "05ece30799c2dcdac4c13b3af20453da19de8df0d9a1de52cff7e0b6e1e82bdd"
   }
  }
 },
 "nbformat": 4,
 "nbformat_minor": 2,
 "cells": [
  {
   "source": [
    "# CREATING TEST DATASET FOR MULTINOMIAL NAIVE BAYES CLASSIFICATION"
   ],
   "cell_type": "markdown",
   "metadata": {}
  },
  {
   "cell_type": "code",
   "execution_count": 21,
   "metadata": {},
   "outputs": [],
   "source": [
    "'''\n",
    "pandas will be our data manipulation module\n",
    "'''\n",
    "import pandas as pd\n",
    "pd.set_option('display.max_columns', None, 'display.max_rows', 200)\n",
    "\n",
    "'''\n",
    "numpy will be our array computing modue\n",
    "'''\n",
    "import numpy as np\n",
    "\n",
    "'''\n",
    "tqdm allows us to easily add progress bars to our processes\n",
    "'''\n",
    "from tqdm import tqdm\n",
    "\n",
    "'''\n",
    "display will allow us to easily display custom data types like dataframes\n",
    "'''\n",
    "from IPython.display import display\n",
    "\n",
    "'''\n",
    "built-in python modules\n",
    "'''\n",
    "import os\n",
    "import string\n",
    "import warnings\n",
    "warnings.filterwarnings('ignore')\n",
    "from collections import defaultdict"
   ]
  },
  {
   "source": [
    "# LOADING IN THE DATASET"
   ],
   "cell_type": "markdown",
   "metadata": {}
  },
  {
   "cell_type": "code",
   "execution_count": null,
   "metadata": {},
   "outputs": [],
   "source": [
    "'''\n",
    "Index(['Unnamed: 0', 'id', 'entity_type', 'entity_id', 'parent_id', 'name',\n",
    "       'normalized_name', 'permalink', 'category_code', 'status', 'founded_at',\n",
    "       'closed_at', 'domain', 'homepage_url', 'twitter_username', 'logo_url',\n",
    "       'logo_width', 'logo_height', 'short_description', 'description',\n",
    "       'overview', 'tag_list', 'country_code', 'state_code', 'city', 'region',\n",
    "       'first_investment_at', 'last_investment_at', 'investment_rounds',\n",
    "       'invested_companies', 'first_funding_at', 'last_funding_at',\n",
    "       'funding_rounds', 'funding_total_usd', 'first_milestone_at',\n",
    "       'last_milestone_at', 'milestones', 'relationships', 'created_by',\n",
    "       'created_at', 'updated_at', 'good2go', 'info', 'Sub-Categories'],\n",
    "      dtype='object')\n",
    "'''"
   ]
  },
  {
   "cell_type": "code",
   "execution_count": 3,
   "metadata": {},
   "outputs": [
    {
     "output_type": "stream",
     "name": "stdout",
     "text": [
      "Columns:\n\tIndex(['name', 'category_code', 'info', 'Sub-Categories'], dtype='object')\n\n\nIndeces:\n\tRangeIndex(start=0, stop=132107, step=1)\n\n"
     ]
    }
   ],
   "source": [
    "column_dtypes = {'name': object, 'category_code': object, 'info': object, 'Sub-Categories': object}\n",
    "\n",
    "dataframe = pd.read_csv(os.getcwd() + '/submapped.csv', dtype=column_dtypes, low_memory=False)\n",
    "dataframe = dataframe[column_dtypes.keys()]\n",
    "\n",
    "print(f'Columns:\\n\\t{dataframe.columns}\\n\\n')\n",
    "print(f'Indeces:\\n\\t{dataframe.index}\\n')"
   ]
  },
  {
   "source": [
    "# Loading in Category/Sub-Categories"
   ],
   "cell_type": "markdown",
   "metadata": {}
  },
  {
   "cell_type": "code",
   "execution_count": 4,
   "metadata": {},
   "outputs": [],
   "source": [
    "subcat_df = pd.read_excel('cat-subcat.xlsx', engine='openpyxl') # requires openpyxl python module, use pip3 install openpyxl to install in your python3 env"
   ]
  },
  {
   "cell_type": "code",
   "execution_count": 5,
   "metadata": {},
   "outputs": [
    {
     "output_type": "execute_result",
     "data": {
      "text/plain": [
       "            Category             Sub-Category\n",
       "0         technology      technology_platform\n",
       "1         technology                 startups\n",
       "2         technology                  startup\n",
       "3    web_development                 services\n",
       "4    web_development                 software\n",
       "..               ...                      ...\n",
       "292         nanotech         microfabrication\n",
       "293         nanotech    molecular_engineering\n",
       "294         nanotech  molecular_self-assembly\n",
       "295         nanotech            nanomaterials\n",
       "296             pets                     pets\n",
       "\n",
       "[297 rows x 2 columns]"
      ],
      "text/html": "<div>\n<style scoped>\n    .dataframe tbody tr th:only-of-type {\n        vertical-align: middle;\n    }\n\n    .dataframe tbody tr th {\n        vertical-align: top;\n    }\n\n    .dataframe thead th {\n        text-align: right;\n    }\n</style>\n<table border=\"1\" class=\"dataframe\">\n  <thead>\n    <tr style=\"text-align: right;\">\n      <th></th>\n      <th>Category</th>\n      <th>Sub-Category</th>\n    </tr>\n  </thead>\n  <tbody>\n    <tr>\n      <th>0</th>\n      <td>technology</td>\n      <td>technology_platform</td>\n    </tr>\n    <tr>\n      <th>1</th>\n      <td>technology</td>\n      <td>startups</td>\n    </tr>\n    <tr>\n      <th>2</th>\n      <td>technology</td>\n      <td>startup</td>\n    </tr>\n    <tr>\n      <th>3</th>\n      <td>web_development</td>\n      <td>services</td>\n    </tr>\n    <tr>\n      <th>4</th>\n      <td>web_development</td>\n      <td>software</td>\n    </tr>\n    <tr>\n      <th>...</th>\n      <td>...</td>\n      <td>...</td>\n    </tr>\n    <tr>\n      <th>292</th>\n      <td>nanotech</td>\n      <td>microfabrication</td>\n    </tr>\n    <tr>\n      <th>293</th>\n      <td>nanotech</td>\n      <td>molecular_engineering</td>\n    </tr>\n    <tr>\n      <th>294</th>\n      <td>nanotech</td>\n      <td>molecular_self-assembly</td>\n    </tr>\n    <tr>\n      <th>295</th>\n      <td>nanotech</td>\n      <td>nanomaterials</td>\n    </tr>\n    <tr>\n      <th>296</th>\n      <td>pets</td>\n      <td>pets</td>\n    </tr>\n  </tbody>\n</table>\n<p>297 rows × 2 columns</p>\n</div>"
     },
     "metadata": {},
     "execution_count": 5
    }
   ],
   "source": [
    "subcat_df = subcat_df[subcat_df.Category.notna()]\n",
    "subcat_df = subcat_df.drop(columns='Unnamed: 0')\n",
    "subcat_df"
   ]
  },
  {
   "cell_type": "code",
   "execution_count": 6,
   "metadata": {},
   "outputs": [],
   "source": [
    "categories = []\n",
    "sub_categories = []\n",
    "\n",
    "for i in range(0, subcat_df.index.size):\n",
    "    sub_categories.append(subcat_df.iloc[i]['Sub-Category'].replace(u'\\u200e', ''))\n",
    "\n",
    "    if subcat_df.iloc[i]['Category'] not in categories:\n",
    "        categories.append(subcat_df.iloc[i]['Category'])"
   ]
  },
  {
   "cell_type": "code",
   "execution_count": 7,
   "metadata": {},
   "outputs": [
    {
     "output_type": "stream",
     "name": "stdout",
     "text": [
      "CPU times: user 1.22 ms, sys: 370 µs, total: 1.59 ms\nWall time: 1.34 ms\n"
     ]
    },
    {
     "output_type": "execute_result",
     "data": {
      "text/plain": [
       "('clean-tech', 'green_transportation')"
      ]
     },
     "metadata": {},
     "execution_count": 7
    }
   ],
   "source": [
    "def cat_subcat(subcat):\n",
    "    try:\n",
    "        cat = subcat_df[subcat_df['Sub-Category'] == subcat]['Category'].index[0]\n",
    "        return (subcat_df.loc[cat, 'Category'], subcat)\n",
    "    except Exception:\n",
    "        return (None, None)\n",
    "\n",
    "%time cat_subcat('green_transportation')"
   ]
  },
  {
   "source": [
    "# WRITING PROGRAM TO HELP CREATE TRAIN DATASET"
   ],
   "cell_type": "markdown",
   "metadata": {}
  },
  {
   "source": [
    "## Finding the indeces where each sub-category is found"
   ],
   "cell_type": "markdown",
   "metadata": {}
  },
  {
   "cell_type": "code",
   "execution_count": 27,
   "metadata": {},
   "outputs": [],
   "source": [
    "sc_index = defaultdict(list)"
   ]
  },
  {
   "cell_type": "code",
   "execution_count": 31,
   "metadata": {},
   "outputs": [],
   "source": [
    "for i in range(0, dataframe.index.size):\n",
    "    current = str(dataframe.iloc[i]['Sub-Categories']).split('; ')\n",
    "    current = [x.lower() for x in current]\n",
    "    current = ['_'.join(x.split(' ')) for x in current]\n",
    "\n",
    "    for j in current:\n",
    "        if j in sub_categories:\n",
    "            sc_index[j].append(i)"
   ]
  },
  {
   "cell_type": "code",
   "execution_count": 50,
   "metadata": {},
   "outputs": [
    {
     "output_type": "execute_result",
     "data": {
      "text/plain": [
       "Int64Index([     0,      1,      2,      3,      4,      5,    583,    649,\n",
       "              1070,   1249,\n",
       "            ...\n",
       "            100591, 100694, 106797, 106888, 108125, 108572, 116129, 121397,\n",
       "            123057, 127995],\n",
       "           dtype='int64', length=1544)"
      ]
     },
     "metadata": {},
     "execution_count": 50
    }
   ],
   "source": [
    "test_set = dataframe.iloc[0:6].copy(deep=True)\n",
    "\n",
    "for v in sc_index.values():\n",
    "    if len(v) > 10:\n",
    "        v = v[:10]\n",
    "\n",
    "    for i in v:\n",
    "        test_set = test_set.append(dataframe.iloc[i])\n",
    "\n",
    "test_set = test_set.drop_duplicates()\n",
    "test_set.index"
   ]
  },
  {
   "cell_type": "code",
   "execution_count": 51,
   "metadata": {},
   "outputs": [
    {
     "output_type": "execute_result",
     "data": {
      "text/plain": [
       "(1544, 4)"
      ]
     },
     "metadata": {},
     "execution_count": 51
    }
   ],
   "source": [
    "test_set.shape"
   ]
  },
  {
   "cell_type": "code",
   "execution_count": 70,
   "metadata": {},
   "outputs": [],
   "source": [
    "test_set = test_set.reset_index(drop=True)"
   ]
  },
  {
   "source": [
    "# We have created a train data set and now we just need to finalize it by manually choosing only one sub-category"
   ],
   "cell_type": "markdown",
   "metadata": {}
  },
  {
   "cell_type": "code",
   "execution_count": 79,
   "metadata": {},
   "outputs": [
    {
     "output_type": "stream",
     "name": "stdout",
     "text": [
      "204: LifeWellth is a startup based in New York that develops software for investors to take control of their financial future by helping them plan their finances to ensure they achieve all their goals in life.\n",
      "\n",
      "Unlike traditional personal financial management tools, LifeWellth takes a prospective view towards their finances. Instead of simply reviewing what they have done so far, we seek to help investors make better decisions as they move forward.\n",
      "\n",
      "LifeWellth helps investors achieve their goals by allowing them to create a plan for their goals such as retirement or college, help them make trade-offs, and provide personalized suggestions to achieve a sunny financial future.\n",
      "\n",
      "The LifeWellth iPad app is available today, and we will be coming to the web and mobile devices in the near future. In the medium term we will be revolutionizing personal finance by developing unique investment vehicles that are customized to each individual investorâs goals.goals, invest, finance, retire, money, plan, financial-advisor, wealth, wellth, debt, barometer, retirement, education, paying-debt, family, inheritance, broker, accounts, pfmInvestment mgmt technology platform\n",
      "~~~~Choose the appropriate sub-category: \n",
      "      [0] Technology Platform\n",
      "      [1] Startup\n",
      "      [2] Software\n",
      "      [3] Personal Finance\n",
      "      [4] Based\n",
      "      [5] Personal\n",
      "      [6] Web\n",
      "      [7] Technology\n",
      "\n",
      "\n",
      "205: PocketSmith is a personal finance service, utilizing a web-based calendar that forecasts users' future cash positions.\n",
      "\n",
      "It attempts to make complex financial tasks simple, through allowing users to see their budget in a relevant format. It then guides users to think about the future by generating predicted balances for each day in the calendar for up to 12 months ahead, which illustrates the impact of their financial decisions.\n",
      "\n",
      "PocketSmith provides users with the ability to upload bank transactions and monitor spending in an on-going fashion, ensuring that they are sticking their budgeted forecast.\n",
      "\n",
      "PocketSmith can synchronize a user's budget, financial events and future balances with Google Calendar, Apple iCal, Microsoft Outlook, and mobile devices such as the iPhone.\n",
      "\n",
      "For the security conscious, no personally-identifiable information is required for signup and use, and key functionality can be used without any bank information or transactions. The application is always delivered via a 256-bit SSL connection. Uploaded bank statements are stripped of personal information, leaving only raw transactions.\n",
      "\n",
      "PocketSmith was founded in June 2008 from Dunedin, New Zealand by co-founders Jason Leong, James Wigglesworth and Francois Bondiguel with the vision of building a truly international online personal finance tool.cashflow, financial-forecasting, budgeting, personal-financeBudgeting and Financial Forecasting App\n",
      "~~~~Choose the appropriate sub-category: \n",
      "      [0] Personal Finance\n",
      "      [1] Personal\n",
      "      [2] Web-based\n",
      "      [3] Security\n",
      "      [4] Information\n",
      "      [5] Application\n",
      "      [6] Vision\n",
      "      [7] International\n",
      "\n",
      "\n",
      "206: Revolution Money is a financial services company with the goal of disrupting incumbent credit companies and PayPal.  Revolution Money's credit card, the RevolutionCard, differs from other credit cards by using PIN-activation, rather than signatures  This allows the card to be printed without any personally identifying information, which the company claims helps to reduce identity theft.  The card transactions are also processed on an internet-based system, allowing the company to drastically reduce its processing fees.  Revolution Money's other main service is MoneyExchange, which pretty much does what one would think -- let users transfer money between one another -- but, uniquely, a MoneyExchange account holders can use a Revolution Money Debit/ATM card so money can be accessed at stores or withdrawn from ATMs.  Transfers between Revolution Money account holders are free.\n",
      "\n",
      "Revolution Money is partially owned by Revolution, LLC, an investment firm and holding company owned by AOL-founder Steve Case.  The company's board also boasts an impressive number of financial luminaries, including Lawrence Summers, former US Secretary of the Treasury; Franklin Raines, former CEO of Fannie Mae; Russell Hogg, former President and CEO of MasterCard; David Pottruck, former CEO of Charles Schwab; and David Golden, former Vice Chairman of JPMorgan.\n",
      "\n",
      "Other online companies in the personal finance space include [Paypal](http://www.crunchbase.com/company/paypal), [Wesabe](http://www.crunchbase.com/company/wesabe), [expensr](http://www.crunchbase.com/company/expensr), and [Mint](http://www.crunchbase.com/company/mint).money, finance, creditcard, financialservicesFinancial Services\n",
      "~~~~Choose the appropriate sub-category: \n",
      "      [0] Services\n",
      "      [1] Personal Finance\n",
      "      [2] Money\n",
      "      [3] Internet-based\n",
      "      [4] Service\n",
      "      [5] Transfers\n",
      "      [6] Personal\n",
      "\n",
      "\n",
      "207: Advise Only is a personal finance and savers community, it also offers services of independent online financial advisory. The newly launched community is a social network where investors can share and confront their ideas with others. It is also a place where asset managers, financial advisors, and other financial institutions can get to know possible clients by sharing with them their portfolios and investment ideas. Advise Only calculates the most important indicators on the shared portfolios in order to make it easier to value them.\n",
      "Advise Only is also the first online financial advisor in Europe and is totally independent from any financial institutions.social-network, financial-advisory, finance, mifid, mental-account, etf, investment, portfolio, stock, fundAdvise Only\n",
      "~~~~Choose the appropriate sub-category: \n",
      "      [0] Services\n",
      "      [1] Shared\n",
      "      [2] Personal Finance\n",
      "      [3] Personal\n",
      "      [4] Community\n",
      "      [5] Network\n",
      "      [6] Online\n",
      "\n",
      "\n",
      "208: Lodo Software, Inc. develops online financial management (PFM) software tools for banks and credit unions. It offers OurCashFlow, a PFM solution that includes Personal Finance Manager, a module that supports online financial management of multiple accounts through a single site; Small Business Finance Manager for consolidated account view, separation of business and personal data, automated expense categorization and reporting, online invoicing, financial reports, and spending alerts; and FI Dashboard, a cross-selling tool that leverages information gathered by the PFM platform to create targeted promotional campaigns. The company also provides implementation services and support, such as pr...\n",
      "~~~~Choose the appropriate sub-category: \n",
      "      [0] Services\n",
      "      [1] Software\n",
      "      [2] Personal Finance\n",
      "      [3] Online\n",
      "      [4] Personal\n",
      "      [5] Business\n",
      "      [6] Information\n",
      "      [7] Platform\n",
      "\n",
      "\n",
      "209: G2 Web Services, LLC is the recognized leader in merchant compliance monitoring and e-commerce risk management. G2 works globally with acquiring banks, independent sales organizations (ISOs), payment service providers (PSPs) and other acquiring value chain members to identify, mitigate and monitor risk posed by their merchantsâ online presences.\n",
      "\n",
      "By monitoring millions of merchant websites worldwide and collecting billions of data artifacts, G2 Web Services has built the industryâs largest e-commerce relationship map that provides a comprehensive and global view of e-commerce across the entire industry. From analyzing the risk involved with boarding a new merchant, to the regular review of website content for compliance violations, to third-party and account data compromise (ADC) risk mitigation, G2 provides a comprehensive set of tools and services to effectively manage acquiring organizationsâ risk throughout the merchant lifecycle.\n",
      "\n",
      "G2 Web Services continues to be run by its three original founders and talented management team. G2 is headquartered in Bellevue, WA, USA.  The partnership with Primus represents the companyâs first external investment. \n",
      "~~~~Choose the appropriate sub-category: \n",
      "      [0] Services\n",
      "      [1] Web\n",
      "      [2] Monitoring\n",
      "      [3] Service\n",
      "      [4] Online\n",
      "      [5] Data\n",
      "      [6] E-commerce\n",
      "      [7] External\n"
     ]
    },
    {
     "output_type": "error",
     "ename": "ValueError",
     "evalue": "invalid literal for int() with base 10: ''",
     "traceback": [
      "\u001b[0;31m---------------------------------------------------------------------------\u001b[0m",
      "\u001b[0;31mValueError\u001b[0m                                Traceback (most recent call last)",
      "\u001b[0;32m<ipython-input-79-1f0c1722093c>\u001b[0m in \u001b[0;36m<module>\u001b[0;34m\u001b[0m\n\u001b[1;32m     12\u001b[0m     \u001b[0mind\u001b[0m \u001b[0;34m=\u001b[0m \u001b[0minput\u001b[0m\u001b[0;34m(\u001b[0m\u001b[0;34m'    Enter a number: '\u001b[0m\u001b[0;34m)\u001b[0m\u001b[0;34m\u001b[0m\u001b[0;34m\u001b[0m\u001b[0m\n\u001b[1;32m     13\u001b[0m \u001b[0;34m\u001b[0m\u001b[0m\n\u001b[0;32m---> 14\u001b[0;31m     \u001b[0mtest_set\u001b[0m\u001b[0;34m[\u001b[0m\u001b[0;34m'Sub-Categories'\u001b[0m\u001b[0;34m]\u001b[0m\u001b[0;34m[\u001b[0m\u001b[0mi\u001b[0m\u001b[0;34m]\u001b[0m \u001b[0;34m=\u001b[0m \u001b[0mcurrent_sc\u001b[0m\u001b[0;34m[\u001b[0m\u001b[0mint\u001b[0m\u001b[0;34m(\u001b[0m\u001b[0mind\u001b[0m\u001b[0;34m)\u001b[0m\u001b[0;34m]\u001b[0m\u001b[0;34m\u001b[0m\u001b[0;34m\u001b[0m\u001b[0m\n\u001b[0m\u001b[1;32m     15\u001b[0m \u001b[0;34m\u001b[0m\u001b[0m\n\u001b[1;32m     16\u001b[0m     \u001b[0mprint\u001b[0m\u001b[0;34m(\u001b[0m\u001b[0;34m'\\n'\u001b[0m\u001b[0;34m)\u001b[0m\u001b[0;34m\u001b[0m\u001b[0;34m\u001b[0m\u001b[0m\n",
      "\u001b[0;31mValueError\u001b[0m: invalid literal for int() with base 10: ''"
     ]
    }
   ],
   "source": [
    "for i in range(0, test_set.index.size):\n",
    "    current_sc = str(test_set.iloc[i]['Sub-Categories']).split('; ')\n",
    "    if len(current_sc) == 1:\n",
    "        continue\n",
    "\n",
    "    print(f'{i}: ' + str(test_set.iloc[i]['info']))\n",
    "\n",
    "    print('~~~~Choose the appropriate sub-category: ')\n",
    "    for j, k in enumerate(current_sc):\n",
    "        print('      [' + str(j) + '] ' + k)\n",
    "    \n",
    "    ind = input('    Enter a number: ')\n",
    "\n",
    "    test_set['Sub-Categories'][i] = current_sc[int(ind)]\n",
    "\n",
    "    print('\\n')"
   ]
  },
  {
   "cell_type": "code",
   "execution_count": 80,
   "metadata": {},
   "outputs": [],
   "source": [
    "test_set.iloc[:209].to_csv('test_set.csv')"
   ]
  },
  {
   "cell_type": "code",
   "execution_count": null,
   "metadata": {},
   "outputs": [],
   "source": []
  }
 ]
}