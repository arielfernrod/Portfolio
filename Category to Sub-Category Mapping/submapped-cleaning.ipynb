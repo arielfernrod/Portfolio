{
 "cells": [
  {
   "cell_type": "code",
   "execution_count": 1,
   "metadata": {},
   "outputs": [],
   "source": [
    "'''\n",
    "pandas will be our data manipulation module\n",
    "'''\n",
    "import pandas as pd\n",
    "pd.set_option('display.max_columns', None, 'display.max_rows', 200)\n",
    "\n",
    "'''\n",
    "numpy will be our array computing modue\n",
    "'''\n",
    "import numpy as np\n",
    "\n",
    "'''\n",
    "tqdm allows us to easily add progress bars to our processes\n",
    "'''\n",
    "from tqdm import tqdm\n",
    "\n",
    "'''\n",
    "display will allow us to easily display custom data types like dataframes\n",
    "'''\n",
    "from IPython.display import display\n",
    "\n",
    "'''\n",
    "built-in python modules\n",
    "'''\n",
    "import os\n",
    "import string\n",
    "import warnings\n",
    "warnings.filterwarnings('ignore')"
   ]
  },
  {
   "cell_type": "code",
   "execution_count": 2,
   "metadata": {},
   "outputs": [
    {
     "name": "stdout",
     "output_type": "stream",
     "text": [
      "Columns:\n",
      "\tIndex(['Unnamed: 0', 'id', 'entity_type', 'entity_id', 'parent_id', 'name',\n",
      "       'normalized_name', 'permalink', 'category_code', 'status', 'founded_at',\n",
      "       'closed_at', 'domain', 'homepage_url', 'twitter_username', 'logo_url',\n",
      "       'logo_width', 'logo_height', 'short_description', 'description',\n",
      "       'overview', 'tag_list', 'country_code', 'state_code', 'city', 'region',\n",
      "       'first_investment_at', 'last_investment_at', 'investment_rounds',\n",
      "       'invested_companies', 'first_funding_at', 'last_funding_at',\n",
      "       'funding_rounds', 'funding_total_usd', 'first_milestone_at',\n",
      "       'last_milestone_at', 'milestones', 'relationships', 'created_by',\n",
      "       'created_at', 'updated_at', 'good2go', 'info', 'Sub-Categories'],\n",
      "      dtype='object')\n",
      "\n",
      "\n",
      "Indeces:\n",
      "\tRangeIndex(start=0, stop=121234, step=1)\n",
      "\n"
     ]
    }
   ],
   "source": [
    "column_dtypes = {'short_description': object, 'description': object, 'overview': object}\n",
    "\n",
    "dataframe = pd.read_csv(os.getcwd() + '/submapped.csv', dtype=column_dtypes, low_memory=False)\n",
    "print(f'Columns:\\n\\t{dataframe.columns}\\n\\n')\n",
    "print(f'Indeces:\\n\\t{dataframe.index}\\n')"
   ]
  },
  {
   "cell_type": "code",
   "execution_count": 3,
   "metadata": {},
   "outputs": [],
   "source": [
    "dataframe = dataframe.drop(columns=['Unnamed: 0', 'good2go'])"
   ]
  },
  {
   "cell_type": "code",
   "execution_count": 5,
   "metadata": {},
   "outputs": [
    {
     "name": "stdout",
     "output_type": "stream",
     "text": [
      "Missing data per column (out of 121,234):\n",
      "id                          0\n",
      "entity_type                 0\n",
      "entity_id                   0\n",
      "parent_id              121234\n",
      "name                        0\n",
      "normalized_name             1\n",
      "permalink                   0\n",
      "category_code            8100\n",
      "status                      0\n",
      "founded_at              37419\n",
      "closed_at              121234\n",
      "domain                   5920\n",
      "homepage_url             5920\n",
      "twitter_username        44992\n",
      "logo_url                22485\n",
      "logo_width                  0\n",
      "logo_height                 0\n",
      "short_description      115123\n",
      "description             34913\n",
      "overview                 4397\n",
      "tag_list                43941\n",
      "country_code            43088\n",
      "state_code              77102\n",
      "city                    46733\n",
      "region                      0\n",
      "first_investment_at    119879\n",
      "last_investment_at     119879\n",
      "investment_rounds           0\n",
      "invested_companies          0\n",
      "first_funding_at        94597\n",
      "last_funding_at         94597\n",
      "funding_rounds              0\n",
      "funding_total_usd           0\n",
      "first_milestone_at      74065\n",
      "last_milestone_at       74065\n",
      "milestones                  0\n",
      "relationships               0\n",
      "created_by              31334\n",
      "created_at                  0\n",
      "updated_at                  0\n",
      "info                        0\n",
      "Sub-Categories           8798\n",
      "dtype: int64\n"
     ]
    }
   ],
   "source": [
    "print(f'Missing data per column (out of 121,234):\\n{dataframe.isna().sum()}')"
   ]
  },
  {
   "cell_type": "markdown",
   "metadata": {},
   "source": [
    "Algorithm was able to map 8,798 out of 121,234 entries. It's also important to note that there are 8,100 missing values in our category column (category_code). My algorithm was meant to map those as well, so there must be a bug somewhere in my code that I must find and fix. "
   ]
  },
  {
   "cell_type": "code",
   "execution_count": 6,
   "metadata": {},
   "outputs": [],
   "source": [
    "dataframe.to_csv('submapped.csv')"
   ]
  },
  {
   "cell_type": "code",
   "execution_count": null,
   "metadata": {},
   "outputs": [],
   "source": []
  }
 ],
 "metadata": {
  "kernelspec": {
   "display_name": "Python 3.6.7 64-bit",
   "name": "python367jvsc74a57bd0aee8b7b246df8f9039afb4144a1f6fd8d2ca17a180786b69acc140d282b71a49"
  },
  "language_info": {
   "codemirror_mode": {
    "name": "ipython",
    "version": 3
   },
   "file_extension": ".py",
   "mimetype": "text/x-python",
   "name": "python",
   "nbconvert_exporter": "python",
   "pygments_lexer": "ipython3",
   "version": "3.6.7-final"
  },
  "orig_nbformat": 2
 },
 "nbformat": 4,
 "nbformat_minor": 2
}
