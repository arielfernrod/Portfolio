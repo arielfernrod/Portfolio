{
 "metadata": {
  "language_info": {
   "codemirror_mode": {
    "name": "ipython",
    "version": 3
   },
   "file_extension": ".py",
   "mimetype": "text/x-python",
   "name": "python",
   "nbconvert_exporter": "python",
   "pygments_lexer": "ipython3",
   "version": "3.6.7"
  },
  "orig_nbformat": 2,
  "kernelspec": {
   "name": "python36764bit18f7939e71684d01b5fb09541e8d6757",
   "display_name": "Python 3.6.7 64-bit"
  },
  "metadata": {
   "interpreter": {
    "hash": "05ece30799c2dcdac4c13b3af20453da19de8df0d9a1de52cff7e0b6e1e82bdd"
   }
  }
 },
 "nbformat": 4,
 "nbformat_minor": 2,
 "cells": [
  {
   "source": [
    "# Multinomial Naive Bayes Classification Model"
   ],
   "cell_type": "markdown",
   "metadata": {}
  },
  {
   "cell_type": "code",
   "execution_count": 1,
   "metadata": {},
   "outputs": [],
   "source": [
    "'''\n",
    "pandas will be our data manipulation module\n",
    "'''\n",
    "import pandas as pd\n",
    "pd.set_option('display.max_columns', None, 'display.max_rows', 200)\n",
    "\n",
    "'''\n",
    "numpy will be our array computing modue\n",
    "'''\n",
    "import numpy as np\n",
    "\n",
    "'''\n",
    "tqdm allows us to easily add progress bars to our processes\n",
    "'''\n",
    "from tqdm import tqdm\n",
    "\n",
    "# '''\n",
    "# seaborn and matplotlib will be used for \n",
    "# data visualization\n",
    "# '''\n",
    "# import seaborn as sns\n",
    "# import matplotlib.pyplot as plt\n",
    "# %matplotlib inline\n",
    "# sns.set(color_codes=True)\n",
    "\n",
    "'''\n",
    "display will allow us to easily display custom data types like dataframes\n",
    "'''\n",
    "from IPython.display import display\n",
    "\n",
    "'''\n",
    "built-in python modules\n",
    "'''\n",
    "import os\n",
    "import string\n",
    "import warnings\n",
    "warnings.filterwarnings('ignore')\n"
   ]
  },
  {
   "cell_type": "code",
   "execution_count": 2,
   "metadata": {},
   "outputs": [
    {
     "output_type": "stream",
     "name": "stdout",
     "text": [
      "Columns:\n\tIndex(['name', 'category_code', 'info', 'Sub-Categories'], dtype='object')\n\n\nIndeces:\n\tRangeIndex(start=0, stop=209, step=1)\n\n"
     ]
    }
   ],
   "source": [
    "column_dtypes = {'name': object, 'category_code': object, 'info': object, 'Sub-Categories': object}\n",
    "\n",
    "train_dataframe = pd.read_csv(os.getcwd() + '/test_set.csv', dtype=column_dtypes, low_memory=False)\n",
    "train_dataframe = train_dataframe[column_dtypes.keys()]\n",
    "\n",
    "print(f'Columns:\\n\\t{train_dataframe.columns}\\n\\n')\n",
    "print(f'Indeces:\\n\\t{train_dataframe.index}\\n')"
   ]
  },
  {
   "source": [
    "# Preparing Our Data To Work With MNB Model"
   ],
   "cell_type": "markdown",
   "metadata": {}
  },
  {
   "cell_type": "code",
   "execution_count": 3,
   "metadata": {},
   "outputs": [],
   "source": [
    "train_info_column = []\n",
    "train_sub_categories_column = []\n",
    "\n",
    "for i in range(0, train_dataframe.index.size):\n",
    "    train_info_column.append(str(train_dataframe.iloc[i]['info']))\n",
    "    train_sub_categories_column.append(str(train_dataframe.iloc[i]['Sub-Categories']))"
   ]
  },
  {
   "cell_type": "code",
   "execution_count": 4,
   "metadata": {},
   "outputs": [
    {
     "output_type": "stream",
     "name": "stdout",
     "text": [
      "Columns:\n\tIndex(['name', 'category_code', 'info', 'Sub-Categories'], dtype='object')\n\n\nIndeces:\n\tRangeIndex(start=0, stop=132107, step=1)\n\n"
     ]
    }
   ],
   "source": [
    "test_dataframe = pd.read_csv(os.getcwd() + '/submapped.csv', dtype=column_dtypes, low_memory=False)\n",
    "test_dataframe = test_dataframe[column_dtypes.keys()]\n",
    "\n",
    "print(f'Columns:\\n\\t{test_dataframe.columns}\\n\\n')\n",
    "print(f'Indeces:\\n\\t{test_dataframe.index}\\n')"
   ]
  },
  {
   "cell_type": "code",
   "execution_count": 5,
   "metadata": {},
   "outputs": [],
   "source": [
    "test_info_column = []\n",
    "test_sub_categories_column = []\n",
    "\n",
    "for i in range(0, test_dataframe.index.size):\n",
    "    test_info_column.append(str(test_dataframe.iloc[i]['info']))\n",
    "    test_sub_categories_column.append(str(test_dataframe.iloc[i]['Sub-Categories']))"
   ]
  },
  {
   "source": [
    "# Fitting and Training Our Model"
   ],
   "cell_type": "markdown",
   "metadata": {}
  },
  {
   "cell_type": "code",
   "execution_count": 6,
   "metadata": {},
   "outputs": [],
   "source": [
    "from sklearn.feature_extraction.text import TfidfVectorizer\n",
    "from sklearn.naive_bayes import MultinomialNB\n",
    "from sklearn.pipeline import make_pipeline\n",
    "\n",
    "model = make_pipeline(TfidfVectorizer(), MultinomialNB())"
   ]
  },
  {
   "cell_type": "code",
   "execution_count": 7,
   "metadata": {},
   "outputs": [],
   "source": [
    "model.fit(train_info_column, train_sub_categories_column)\n",
    "predictions = model.predict(test_info_column)"
   ]
  },
  {
   "cell_type": "code",
   "execution_count": 8,
   "metadata": {},
   "outputs": [],
   "source": [
    "predicted_sc = predictions.tolist()"
   ]
  },
  {
   "source": [
    "# Exporting Our Dataframe With Predicted Sub-Categories"
   ],
   "cell_type": "markdown",
   "metadata": {}
  },
  {
   "cell_type": "code",
   "execution_count": 10,
   "metadata": {},
   "outputs": [],
   "source": [
    "final_dataframe = pd.read_csv(os.getcwd() + '/submapped.csv', low_memory=False)\n",
    "\n",
    "final_dataframe = final_dataframe.drop(columns='Sub-Categories')\n",
    "final_dataframe['Sub-Category'] = predicted_sc"
   ]
  },
  {
   "cell_type": "code",
   "execution_count": 11,
   "metadata": {},
   "outputs": [],
   "source": [
    "final_dataframe.to_csv('submapped-MNB.csv')"
   ]
  },
  {
   "cell_type": "code",
   "execution_count": null,
   "metadata": {},
   "outputs": [],
   "source": []
  }
 ]
}